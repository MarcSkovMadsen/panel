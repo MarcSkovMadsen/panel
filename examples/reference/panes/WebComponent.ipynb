{
 "cells": [
  {
   "cell_type": "markdown",
   "metadata": {},
   "source": [
    "# WebComponent Reference"
   ]
  },
  {
   "cell_type": "code",
   "execution_count": null,
   "metadata": {},
   "outputs": [],
   "source": [
    "import param\n",
    "import panel as pn\n",
    "pn.extension()\n",
    "pn.config.sizing_mode=\"stretch_width\"\n",
    "from IPython.core.display import display, HTML\n",
    "display(HTML(\"<style>.container { width:100% !important; }</style>\"))"
   ]
  },
  {
   "cell_type": "markdown",
   "metadata": {},
   "source": [
    "WebComponent\n",
    "============\n",
    "\n",
    "Use the WebComponent to quickly plugin webcomponents and/ or Javascript libraries not already\n",
    "supported in Panel.\n",
    "\n",
    "You can use it by instantiating an instance or inheriting from it.\n",
    "\n",
    "Parameters\n",
    "---------------\n",
    "\n",
    "- The parameter values listed in `attributes_to_watch` will be used to set the `html` parameter\n",
    "attributes on construction. Further more the the key attributes of the Javascript\n",
    "WebComponent and the value parameters of the Python WebComponent will be kept in sync.\n",
    "- The value parameters listed in `properties_to_watch` will be used to set the Javascript Web\n",
    "Component key properties on construction and kept in sync after construction.\n",
    "- The parameters listed in `parameters_to_watch` will be used to set the `html` parameter on\n",
    "construction and when changed.\n",
    "- The event keys listed in `events_to_watch` will be watched on the JavaScript side. When fired\n",
    "the javascript code will check whether any properties_to_watch have changed and if yes then they\n",
    "will be synced to Python. If a Python value parameter is specified it will be\n",
    "incremented by +1 for each event.\n",
    "- The `ColumnDataSource` is used to efficiently transfer columnar data to the javascript side.\n",
    "    - The `column_data_source_orient` is used to specify how the js web component would like to receive the data.\n",
    "    For now `dict` and `records` are supported.\n",
    "    - The `column_data_source_load_function` specifies the name of the function on the web component that will load the data\n",
    "\n",
    "Other\n",
    "-------\n",
    "\n",
    "- If the JavaScript WebComponent contains an `after_layout` function this can be used to\n",
    "resize the JS WebComponent. An example is the ECharts web component.\n",
    "- You can specify nested JS properties as values in properties_to_watch\n",
    "- Please note that you will propably have to experiment a bit in order to determine which\n",
    "javascript files to import and what combination of attributes, properties, events and/ or\n",
    "parameters to watch.\n",
    "___"
   ]
  },
  {
   "cell_type": "markdown",
   "metadata": {},
   "source": [
    "## Introduction\n",
    "\n",
    "Web Components powers the modern web. For an introduction and overview see [Web Components: The Secret Ingredient Helping Power The Web](https://www.youtube.com/watch?v=YBwgkr_Sbx0).\n",
    "\n",
    "You can find web components to use in your Panel Project at \n",
    "\n",
    "- [webcomponent.org](https://www.webcomponents.org/)\n",
    "- [npm](https://www.npmjs.com/), \n",
    "\n",
    "Please note picking and using the right web component library and the right version can be **challenging** as the web component standard is still evolving. You might have to do some experimentation before it works for you.\n"
   ]
  },
  {
   "cell_type": "markdown",
   "metadata": {},
   "source": [
    "## Google Model Viewer\n",
    "\n",
    "Google has developed a `model-viewer` web component for interactively viewing very large and detailed 3D models. For an introduction see [modelviewer.dev](https://modelviewer.dev/)\n",
    "\n",
    "We start out by defining the *javascript* nescessary to load the package and the web component *html* string.\n",
    "\n",
    "##### TODO: MAYBE REMOVE SOME OF THE JS TO SIMPLIFY?"
   ]
  },
  {
   "cell_type": "code",
   "execution_count": null,
   "metadata": {},
   "outputs": [],
   "source": [
    "js = \"\"\"\n",
    "<script src=\"https://unpkg.com/@webcomponents/webcomponentsjs@2.2.7/webcomponents-loader.js\"></script>\n",
    "<script type=\"module\" src=\"https://unpkg.com/@google/model-viewer/dist/model-viewer.js\"></script>\n",
    "<script nomodule src=\"https://unpkg.com/@google/model-viewer/dist/model-viewer-legacy.js\"></script>\n",
    "\"\"\"\n",
    "js_pane = pn.pane.HTML(js)\n",
    "\n",
    "html=\"\"\"\n",
    "<model-viewer src=\"https://modelviewer.dev/shared-assets/models/Astronaut.glb\" alt=\"A 3D model of an astronaut\"\n",
    "auto-rotate camera-controls style=\"height:400px;width:100%;\">\n",
    "</model-viewer>\n",
    "\"\"\""
   ]
  },
  {
   "cell_type": "markdown",
   "metadata": {},
   "source": [
    "### Simple Version"
   ]
  },
  {
   "cell_type": "code",
   "execution_count": null,
   "metadata": {},
   "outputs": [],
   "source": [
    "model_viewer_pane = pn.pane.WebComponent(html=html, height=400, width=300)\n",
    "\n",
    "pn.Column(\n",
    "    js_pane,\n",
    "    model_viewer_pane,\n",
    "    height=400,\n",
    ")"
   ]
  },
  {
   "cell_type": "markdown",
   "metadata": {},
   "source": [
    "### Advanced Version"
   ]
  },
  {
   "cell_type": "code",
   "execution_count": null,
   "metadata": {},
   "outputs": [],
   "source": [
    "astronaut_src = \"https://modelviewer.dev/shared-assets/models/Astronaut.glb\"\n",
    "flight_helmet_src=\"https://modelviewer.dev/shared-assets/models/glTF-Sample-Models/2.0/FlightHelmet/glTF/FlightHelmet.gltf\"\n",
    "\n",
    "class ModelViewer(pn.pane.WebComponent):\n",
    "    \"\"\"A Wired ModelViewer\"\"\"\n",
    "    html = param.String(html)\n",
    "    attributes_to_watch= param.Dict({\"src\": \"src\"})\n",
    "    properties_to_watch= param.Dict({\"exposure\": \"exposure\"})\n",
    "\n",
    "    src = param.String(astronaut_src)\n",
    "    exposure = param.Number(1.0, bounds=(0, 2))\n",
    "\n",
    "\n",
    "model_viewer = ModelViewer(min_height=200, width=300, src=flight_helmet_src)\n",
    "\n",
    "pn.Row(\n",
    "    js_pane,\n",
    "    model_viewer, pn.Param(model_viewer, parameters=[\"exposure\"]),\n",
    ")"
   ]
  },
  {
   "cell_type": "markdown",
   "metadata": {},
   "source": [
    "For an even more interactive version that has been developed by Google see [model-viewer tester](https://modelviewer.dev/examples/tester.html)."
   ]
  },
  {
   "cell_type": "markdown",
   "metadata": {},
   "source": [
    "## ECharts/ PyeChart\n",
    "\n",
    "[ECharts](https://www.echartsjs.com/en/index.html) is an open-sourced JavaScript\n",
    "visualization tool, which can run fluently on PC and mobile devices.\n",
    "It is compatible with most modern Web Browsers.\n",
    "\n",
    "ECharts depends on ZRender, a graphic rendering engine, to\n",
    "create intuitive, interactive, and highly-customizable charts.\n",
    "\n",
    "[Pyecharts](https://pyecharts.org/#/en-us/) is a Python api for using ECharts in Python\n",
    "including Standalone, Flask, Django and Jupyter Notebooks."
   ]
  },
  {
   "cell_type": "code",
   "execution_count": null,
   "metadata": {},
   "outputs": [],
   "source": [
    "ECHARTS_JS = \"\"\"\n",
    "<script src=\"https://cdn.bootcss.com/echarts/3.7.2/echarts.min.js\"></script>\n",
    "\"\"\"\n",
    "\n",
    "echarts_js_pane = pn.pane.HTML(ECHARTS_JS)\n",
    "\n",
    "ECHARTS_HTML = \"\"\"\n",
    "    <div class=\"echart\" style=\"width:100%;height:100%;\"></div>\n",
    "    <script type=\"text/javascript\">\n",
    "        var myScript = document.currentScript;\n",
    "        var myDiv = myScript.parentElement.firstElementChild;\n",
    "        var myChart = echarts.init(myDiv);\n",
    "        myDiv.eChart = myChart;\n",
    "        Object.defineProperty(myDiv, 'option', {\n",
    "           get: function() { return null; },\n",
    "           set: function(val) { this.eChart.setOption(val); this.eChart.resize();}\n",
    "        });\n",
    "        myDiv.after_layout = myChart.resize; // Resizes the chart after layout of parent element\n",
    "    </script>\"\"\"\n",
    "\n",
    "class EChart(pn.pane.WebComponent):\n",
    "    html = param.String(ECHARTS_HTML)\n",
    "    properties_to_watch = param.Dict({\"option\": \"option\"})\n",
    "\n",
    "    echart = param.Parameter()\n",
    "    option = param.Dict()\n",
    "\n",
    "    def __init__(self, **params):\n",
    "        if \"echart\" in params:\n",
    "            params[\"option\"] = self._to_echart_dict(params[\"echart\"])\n",
    "        super().__init__(**params)\n",
    "\n",
    "    @classmethod\n",
    "    def _to_echart_dict(cls, echart):\n",
    "        if isinstance(echart, dict):\n",
    "            return echart\n",
    "        if 'pyecharts' in sys.modules:\n",
    "            import pyecharts\n",
    "            if isinstance(echart, pyecharts.charts.chart.Chart):\n",
    "                return json.loads(echart.dump_options())\n",
    "\n",
    "        return {}\n",
    "\n",
    "    @param.depends(\"echart\", watch=True)\n",
    "    def update(self):\n",
    "        self.option = self._to_echart_dict(self.echart)"
   ]
  },
  {
   "cell_type": "code",
   "execution_count": null,
   "metadata": {},
   "outputs": [],
   "source": [
    "pn.config.js_files[\"echart\"]=\"https://cdn.bootcss.com/echarts/3.7.2/echarts.min.js\"\n",
    "ECHART_DICT = {\n",
    "    \"title\": {\"text\": \"ECharts entry example\"},\n",
    "    \"tooltip\": {},\n",
    "    \"legend\": {\"data\": [\"Sales\"]},\n",
    "    \"xAxis\": {\"data\": [\"shirt\", \"cardign\", \"chiffon shirt\", \"pants\", \"heels\", \"socks\"]},\n",
    "    \"yAxis\": {},\n",
    "    \"series\": [{\"name\": \"Sales\", \"type\": \"bar\", \"data\": [5, 20, 36, 10, 10, 20]}],\n",
    "}\n",
    "pn.Column(\n",
    "    EChart(echart=ECHART_DICT, height=500),\n",
    ")\n",
    "\n",
    "# @Philippfr. Does not work now. But works if you `.show()`"
   ]
  },
  {
   "cell_type": "markdown",
   "metadata": {},
   "source": [
    "## Open Source Web Component Libraries\n",
    "\n",
    "- [Material](https://github.com/material-components/material-components-web-components#readme) (Work in Progress)\n",
    "- [Vaadin](https://vaadin.com/components) (Mature)"
   ]
  },
  {
   "cell_type": "markdown",
   "metadata": {},
   "source": [
    "## Including Prebuilt Web Component Modules using unpkg.com\n",
    "\n",
    "If you find a web component library on [npm](https://npmjs.com) you can find a corresponding precombiled library on [unpkg](https://unpkg.com)\n",
    "\n",
    "For example if you find the `wired-button` at [https://www.npmjs.com/package/wired-button](https://www.npmjs.com/package/wired-button) then you can browse the precompiled files at [https://www.unpkg.com/browse/wired-button/](https://www.unpkg.com/browse/wired-button/) to locate the relevant precombiled file at [https://www.unpkg.com/wired-button@2.0.0/lib/wired-button.js](https://www.unpkg.com/wired-button@2.0.0/lib/wired-button.js)."
   ]
  },
  {
   "cell_type": "markdown",
   "metadata": {},
   "source": [
    "## References\n",
    "\n",
    "- [Build an app with WebComponents in 9 minutes](https://www.youtube.com/watch?v=mTNdTcwK3MM)\n",
    "- [How to use Web Components in a JavaScript project](https://www.youtube.com/watch?v=88Sa-SlHRxk&t=63s)"
   ]
  }
 ],
 "metadata": {
  "kernelspec": {
   "display_name": "Python 3",
   "language": "python",
   "name": "python3"
  },
  "language_info": {
   "codemirror_mode": {
    "name": "ipython",
    "version": 3
   },
   "file_extension": ".py",
   "mimetype": "text/x-python",
   "name": "python",
   "nbconvert_exporter": "python",
   "pygments_lexer": "ipython3",
   "version": "3.7.4"
  }
 },
 "nbformat": 4,
 "nbformat_minor": 4
}
