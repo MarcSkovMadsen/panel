{
 "cells": [
  {
   "cell_type": "code",
   "execution_count": null,
   "metadata": {},
   "outputs": [],
   "source": [
    "import panel as pn\n",
    "import pydeck as pdk\n",
    "pn.extension('deckgl')"
   ]
  },
  {
   "cell_type": "markdown",
   "metadata": {},
   "source": [
    "## PyDeck Introduction\n",
    "\n",
    "[Deck.gl](https://deck.gl/#/) is a very powerful WebGL-powered framework for visual exploratory data analysis of large datasets.\n",
    "\n",
    "The [`PyDeck`](https://deckgl.readthedocs.io/en/latest/) *package* provides Python bindings. Please follow the [installation instructions](https://github.com/uber/deck.gl/blob/master/bindings/pydeck/README.md) closely to get it working in this Jupyter Notebook.\n",
    "\n",
    "The `DeckGL` *pane* renders JSON Deck.gl JSON specification as well as `PyDeck` plots inside a panel.\n",
    "\n",
    "#### Parameters:\n",
    "\n",
    "For layout and styling related parameters see the [customization user guide](../../user_guide/Customization.ipynb).\n",
    "\n",
    "* **``object``** (object or dict): The deck.GL JSON or PyDeck object being displayed\n",
    "\n",
    "____"
   ]
  },
  {
   "cell_type": "markdown",
   "metadata": {},
   "source": [
    "In order to use Deck.gl you need a MAP BOX Key which you can acquire for free for limited use at [mapbox.com](https://account.mapbox.com/access-tokens/).\n",
    "\n",
    "Now we can define a JSON spec and pass it to the DeckGL pane along with the Mapbox key:"
   ]
  },
  {
   "cell_type": "code",
   "execution_count": null,
   "metadata": {},
   "outputs": [],
   "source": [
    "MAPBOX_KEY = \"pk.eyJ1IjoicGFuZWxvcmciLCJhIjoiY2s1enA3ejhyMWhmZjNobjM1NXhtbWRrMyJ9.B_frQsAVepGIe-HiOJeqvQ\"\n",
    "\n",
    "json_spec = {\n",
    "    \"initialViewState\": {\n",
    "        \"bearing\": -27.36,\n",
    "        \"latitude\": 52.2323,\n",
    "        \"longitude\": -1.415,\n",
    "        \"maxZoom\": 15,\n",
    "        \"minZoom\": 5,\n",
    "        \"pitch\": 40.5,\n",
    "        \"zoom\": 6\n",
    "    },\n",
    "    \"layers\": [{\n",
    "        \"@@type\": \"HexagonLayer\",\n",
    "        \"autoHighlight\": True,\n",
    "        \"coverage\": 1,\n",
    "        \"data\": \"https://raw.githubusercontent.com/uber-common/deck.gl-data/master/examples/3d-heatmap/heatmap-data.csv\",\n",
    "        \"elevationRange\": [0, 3000],\n",
    "        \"elevationScale\": 50,\n",
    "        \"extruded\": True,\n",
    "        \"getPosition\": \"@@=[lng, lat]\",\n",
    "        \"id\": \"8a553b25-ef3a-489c-bbe2-e102d18a3211\", \"pickable\": True\n",
    "    }],\n",
    "    \"mapStyle\": \"mapbox://styles/mapbox/dark-v9\",\n",
    "    \"views\": [{\"@@type\": \"MapView\", \"controller\": True}]\n",
    "}\n",
    "\n",
    "deck_gl = pn.pane.DeckGL(json_spec, mapbox_api_key=MAPBOX_KEY, sizing_mode='stretch_width', height=600)\n",
    "\n",
    "deck_gl"
   ]
  },
  {
   "cell_type": "markdown",
   "metadata": {},
   "source": [
    "Like other panes the DeckGL object can be replaced or updated. In this example we will change the `colorRange` of the HexagonLayer and then trigger an update:"
   ]
  },
  {
   "cell_type": "code",
   "execution_count": null,
   "metadata": {},
   "outputs": [],
   "source": [
    "COLOR_RANGE = [\n",
    "      [1, 152, 189],\n",
    "      [73, 227, 206],\n",
    "      [216, 254, 181],\n",
    "      [254, 237, 177],\n",
    "      [254, 173, 84],\n",
    "      [209, 55, 78]\n",
    "]\n",
    "\n",
    "json_spec['layers'][0]['colorRange'] = COLOR_RANGE\n",
    "\n",
    "deck_gl.param.trigger('object')"
   ]
  },
  {
   "cell_type": "markdown",
   "metadata": {},
   "source": [
    "Alternatively the `DeckGL` pane can also be given a PyDeck object to render:"
   ]
  },
  {
   "cell_type": "code",
   "execution_count": null,
   "metadata": {},
   "outputs": [],
   "source": [
    "import pydeck\n",
    "\n",
    "DATA_URL = \"https://raw.githubusercontent.com/uber-common/deck.gl-data/master/examples/geojson/vancouver-blocks.json\"\n",
    "\n",
    "LAND_COVER = [[[-123.0, 49.196], [-123.0, 49.324], [-123.306, 49.324], [-123.306, 49.196]]]\n",
    "\n",
    "INITIAL_VIEW_STATE = pydeck.ViewState(\n",
    "  latitude=49.254,\n",
    "  longitude=-123.13,\n",
    "  zoom=11,\n",
    "  max_zoom=16,\n",
    "  pitch=45,\n",
    "  bearing=0\n",
    ")\n",
    "\n",
    "polygon = pydeck.Layer(\n",
    "    'PolygonLayer',\n",
    "    LAND_COVER,\n",
    "    stroked=False,\n",
    "    # processes the data as a flat longitude-latitude pair\n",
    "    get_polygon='-',\n",
    "    get_fill_color=[0, 0, 0, 20]\n",
    ")\n",
    "\n",
    "geojson = pydeck.Layer(\n",
    "    'GeoJsonLayer',\n",
    "    DATA_URL,\n",
    "    opacity=0.8,\n",
    "    stroked=False,\n",
    "    filled=True,\n",
    "    extruded=True,\n",
    "    wireframe=True,\n",
    "    get_elevation='properties.valuePerSqm / 20',\n",
    "    get_fill_color='[255, 255, properties.growth * 255]',\n",
    "    get_line_color=[255, 255, 255],\n",
    "    pickable=True\n",
    ")\n",
    "\n",
    "r = pydeck.Deck(\n",
    "    mapbox_key=MAPBOX_KEY,\n",
    "    layers=[polygon, geojson],\n",
    "    initial_view_state=INITIAL_VIEW_STATE\n",
    ")\n",
    "\n",
    "pn.pane.DeckGL(r, sizing_mode='stretch_width', height=600)"
   ]
  },
  {
   "cell_type": "markdown",
   "metadata": {},
   "source": [
    "## Advanced Example Based on Global Power Plant Database\n",
    "\n",
    "We will base this example on data from the [Global Power Plant Database](http://datasets.wri.org/dataset/540dcf46-f287-47ac-985d-269b04bea4c6/resource/c240ed2e-1190-4d7e-b1da-c66b72e08858/download/globalpowerplantdatabasev120).\n",
    "\n",
    "We will create an interactive application to explore the location and types of power plants globally."
   ]
  },
  {
   "cell_type": "code",
   "execution_count": null,
   "metadata": {},
   "outputs": [],
   "source": [
    "import param\n",
    "import pandas as pd\n",
    "\n",
    "POWER_PLANT_URL = (\n",
    "    \"https://raw.githubusercontent.com/MarcSkovMadsen/awesome-streamlit/master/\"\n",
    "    \"gallery/global_power_plant_database/global_power_plant_database.csv\"\n",
    ")\n",
    "\n",
    "pp_data = pd.read_csv(POWER_PLANT_URL)\n",
    "\n",
    "# Clean the data as PyDeck does not handle NA data well\n",
    "pp_data.primary_fuel = pp_data.primary_fuel.fillna(\"NA\")\n",
    "pp_data.capacity_mw = pp_data.capacity_mw.fillna(1)\n",
    "\n",
    "pp_data.head(3)"
   ]
  },
  {
   "cell_type": "code",
   "execution_count": null,
   "metadata": {},
   "outputs": [],
   "source": [
    "FUEL_COLORS = {\n",
    "    \"Oil\": \"black\",\n",
    "    \"Solar\": \"green\",\n",
    "    \"Gas\": \"black\",\n",
    "    \"Other\": \"gray\",\n",
    "    \"Hydro\": \"blue\",\n",
    "    \"Coal\": \"black\",\n",
    "    \"Petcoke\": \"black\",\n",
    "    \"Biomass\": \"green\",\n",
    "    \"Waste\": \"green\",\n",
    "    \"Cogeneration\": \"gray\",\n",
    "    \"Storage\": \"orange\",\n",
    "    \"Wind\": \"green\",\n",
    "}\n",
    "\n",
    "COLORS_R = {\"black\": 0, \"green\": 0, \"blue\": 0, \"orange\": 255, \"gray\": 128}\n",
    "COLORS_G = {\"black\": 0, \"green\": 128, \"blue\": 0, \"orange\": 165, \"gray\": 128}\n",
    "COLORS_B = {\"black\": 0, \"green\": 0, \"blue\": 255, \"orange\": 0, \"gray\": 128}\n",
    "\n",
    "pp_data[\"primary_fuel_color\"] = pp_data.primary_fuel.map(FUEL_COLORS)\n",
    "pp_data[\"primary_fuel_color\"] = pp_data[\"primary_fuel_color\"].fillna(\"gray\")\n",
    "pp_data[\"color_r\"] = pp_data[\"primary_fuel_color\"].map(COLORS_R)\n",
    "pp_data[\"color_g\"] = pp_data[\"primary_fuel_color\"].map(COLORS_G)\n",
    "pp_data[\"color_b\"] = pp_data[\"primary_fuel_color\"].map(COLORS_B)\n",
    "pp_data[\"color_a\"] = 140\n",
    "\n",
    "# \"name\", \"primary_fuel\", \"capacity_mw\",\n",
    "pp_data = pp_data[[\n",
    "    \"latitude\",\"longitude\", \"capacity_mw\",\n",
    "    \"color_r\",\"color_g\",\"color_b\",\"color_a\",]\n",
    "]\n",
    "pp_data.head(2)"
   ]
  },
  {
   "cell_type": "code",
   "execution_count": null,
   "metadata": {},
   "outputs": [],
   "source": [
    "class GlobalPowerPlantDatabaseApp:\n",
    "    data = param.DataFrame(pp_data)\n",
    "    \n",
    "    def _view_state(self):\n",
    "        return pdk.ViewState(\n",
    "            longitude=65.1190,\n",
    "            latitude=32.322,\n",
    "            zoom=6,\n",
    "            min_zoom=1,\n",
    "            max_zoom=22,\n",
    "            pitch=40.5,\n",
    "            bearing=-27.36,\n",
    "        )\n",
    "    \n",
    "    def _pp_layer(self):\n",
    "        return pdk.Layer(\n",
    "            \"ScatterplotLayer\",\n",
    "            data=self.data,\n",
    "            get_position=[\"longitude\", \"latitude\"],\n",
    "            get_fill_color=\"[color_r, color_g, color_b, color_a]\",\n",
    "            get_radius=\"capacity_mw*10\",\n",
    "            pickable=True,\n",
    "            opacity=0.8,\n",
    "            stroked=False,\n",
    "            filled=True,\n",
    "            wireframe=True,\n",
    "        )\n",
    "        \n",
    "    def _deck(self):\n",
    "        return pdk.Deck(\n",
    "            map_style=\"mapbox://styles/mapbox/light-v9\",\n",
    "            initial_view_state=self._view_state(),\n",
    "            layers=[self._pp_layer()],\n",
    "            tooltip=True,\n",
    "            mapbox_key=MAPBOX_KEY,\n",
    "        )\n",
    "    \n",
    "    def view(self):\n",
    "        return pn.pane.PyDeck(self._deck())"
   ]
  },
  {
   "cell_type": "code",
   "execution_count": null,
   "metadata": {},
   "outputs": [],
   "source": [
    "app = GlobalPowerPlantDatabaseApp()\n",
    "app.view()"
   ]
  },
  {
   "cell_type": "markdown",
   "metadata": {},
   "source": [
    "### Credits\n",
    "\n",
    "The PyDeck pane and this reference example was contributed by\n",
    "\n",
    "- [Marc Skov Madsen](https://datamodelsanalytics.com)\n",
    "\n",
    "and improved by\n",
    "\n",
    "- Philipp Rüdiger"
   ]
  }
 ],
 "metadata": {
  "kernelspec": {
   "display_name": "panel_dev",
   "language": "python",
   "name": "panel_dev"
  },
  "language_info": {
   "codemirror_mode": {
    "name": "ipython",
    "version": 3
   },
   "file_extension": ".py",
   "mimetype": "text/x-python",
   "name": "python",
   "nbconvert_exporter": "python",
   "pygments_lexer": "ipython3",
   "version": "3.7.6"
  }
 },
 "nbformat": 4,
 "nbformat_minor": 4
}
