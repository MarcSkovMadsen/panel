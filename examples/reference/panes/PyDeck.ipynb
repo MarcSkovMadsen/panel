{
 "cells": [
  {
   "cell_type": "code",
   "execution_count": null,
   "metadata": {},
   "outputs": [],
   "source": [
    "import panel as pn\n",
    "import pydeck as pdk\n",
    "pn.extension('pydeck')"
   ]
  },
  {
   "cell_type": "markdown",
   "metadata": {},
   "source": [
    "[Deck.gl](https://deck.gl/#/) is an awesome WebGL-powered framework for visual exploratory data\n",
    "analysis of large datasets.\n",
    "\n",
    "The [`PyDeck`](https://deckgl.readthedocs.io/en/latest/) *package* provides Python bindings. Please follow the [installation instructions](https://github.com/uber/deck.gl/blob/master/bindings/pydeck/README.md) closely to get it working in this Jupyter Notebook.\n",
    "\n",
    "The `PyDeck` *pane* renders `PyDeck` plots inside a panel.\n",
    "\n",
    "#### Parameters:\n",
    "\n",
    "For layout and styling related parameters see the [customization user guide](../../user_guide/Customization.ipynb).\n",
    "\n",
    "* **``object``** (object): The PyDeck object being displayed\n",
    "\n",
    "___"
   ]
  },
  {
   "cell_type": "code",
   "execution_count": null,
   "metadata": {},
   "outputs": [],
   "source": []
  },
  {
   "cell_type": "markdown",
   "metadata": {},
   "source": [
    "In order to use Deck.gl you need a MAP BOX Key which you can acquire for free for limited use at\n",
    "[mapbox.com](https://account.mapbox.com/access-tokens/)"
   ]
  },
  {
   "cell_type": "code",
   "execution_count": null,
   "metadata": {},
   "outputs": [],
   "source": [
    "MAPBOX_KEY = (\n",
    "    \"pk.eyJ1IjoibWFyY3Nrb3ZtYWRzZW4iLCJhIjoiY2s1anMzcG5rMDYzazNvcm10NTFybTE4cSJ9.\"\n",
    "    \"TV1XBgaMfR-iTLvAXM_Iew\"\n",
    ")"
   ]
  },
  {
   "cell_type": "markdown",
   "metadata": {},
   "source": [
    "You also need some data in the form of an url or a DataFrame. Here we use an url."
   ]
  },
  {
   "cell_type": "code",
   "execution_count": null,
   "metadata": {},
   "outputs": [],
   "source": [
    "UK_ACCIDENTS_DATA = (\n",
    "    \"https://raw.githubusercontent.com/uber-common/\"\n",
    "    \"deck.gl-data/master/examples/3d-heatmap/heatmap-data.csv\"\n",
    ")"
   ]
  },
  {
   "cell_type": "markdown",
   "metadata": {},
   "source": [
    "Lets define a `Deck`."
   ]
  },
  {
   "cell_type": "code",
   "execution_count": null,
   "metadata": {},
   "outputs": [],
   "source": [
    "def uk_accidents_deck() -> pdk.Deck:\n",
    "    \"\"\"The UK Accidents Deck\n",
    "\n",
    "    See [PyDec Docs](https://deckgl.readthedocs.io/en/latest/layer.html)\n",
    "\n",
    "    Returns:\n",
    "        pdk.Deck: The UK Accidents Deck\n",
    "    \"\"\"\n",
    "    # 2014 location of car accidents in the UK\n",
    "\n",
    "    # Define a layer to display on a map\n",
    "    layer = pdk.Layer(\n",
    "        \"HexagonLayer\",\n",
    "        UK_ACCIDENTS_DATA,\n",
    "        get_position=[\"lng\", \"lat\",],\n",
    "        auto_highlight=True,\n",
    "        elevation_scale=50,\n",
    "        pickable=True,\n",
    "        elevation_range=[0, 3000,],\n",
    "        extruded=True,\n",
    "        coverage=1,\n",
    "    )\n",
    "\n",
    "    # Set the viewport location\n",
    "    view_state = pdk.ViewState(\n",
    "        longitude=-1.415,\n",
    "        latitude=52.2323,\n",
    "        zoom=6,\n",
    "        min_zoom=5,\n",
    "        max_zoom=15,\n",
    "        pitch=40.5,\n",
    "        bearing=-27.36,\n",
    "    )\n",
    "\n",
    "    # Combined all of it and render a viewport\n",
    "    return pdk.Deck(layers=[layer], initial_view_state=view_state, mapbox_key=MAPBOX_KEY,)\n",
    "deck = uk_accidents_deck()"
   ]
  },
  {
   "cell_type": "markdown",
   "metadata": {},
   "source": [
    "The `deck` can be used in a notebook without Panel as it is already connected to an ipywidget"
   ]
  },
  {
   "cell_type": "code",
   "execution_count": null,
   "metadata": {},
   "outputs": [],
   "source": [
    "deck.show()"
   ]
  },
  {
   "cell_type": "markdown",
   "metadata": {},
   "source": [
    "But you can use the `PyDeck` *pane* to work more efficiently with the deck in your Panel app."
   ]
  },
  {
   "cell_type": "code",
   "execution_count": null,
   "metadata": {
    "scrolled": false
   },
   "outputs": [],
   "source": [
    "# Does not work as it shows nothing\n",
    "pn.pane.PyDeck(deck)"
   ]
  },
  {
   "cell_type": "code",
   "execution_count": null,
   "metadata": {},
   "outputs": [],
   "source": [
    "# But it works using Bokeh\n",
    "pn.pane.PyDeck(deck).show()"
   ]
  },
  {
   "cell_type": "code",
   "execution_count": null,
   "metadata": {},
   "outputs": [],
   "source": []
  }
 ],
 "metadata": {
  "kernelspec": {
   "display_name": "panel_dev",
   "language": "python",
   "name": "panel_dev"
  },
  "language_info": {
   "codemirror_mode": {
    "name": "ipython",
    "version": 3
   },
   "file_extension": ".py",
   "mimetype": "text/x-python",
   "name": "python",
   "nbconvert_exporter": "python",
   "pygments_lexer": "ipython3",
   "version": "3.7.6"
  }
 },
 "nbformat": 4,
 "nbformat_minor": 4
}
